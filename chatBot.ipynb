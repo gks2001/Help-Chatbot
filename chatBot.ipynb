{
  "nbformat": 4,
  "nbformat_minor": 0,
  "metadata": {
    "anaconda-cloud": {},
    "kernelspec": {
      "display_name": "Python 3",
      "language": "python",
      "name": "python3"
    },
    "language_info": {
      "codemirror_mode": {
        "name": "ipython",
        "version": 3
      },
      "file_extension": ".py",
      "mimetype": "text/x-python",
      "name": "python",
      "nbconvert_exporter": "python",
      "pygments_lexer": "ipython3",
      "version": "3.6.1"
    },
    "colab": {
      "name": "chatBot.ipynb",
      "provenance": [],
      "collapsed_sections": [
        "ejP3kVO99gWM",
        "_JcFntBfinAm",
        "dfPg-Le8isjz",
        "EXgeQH5R1znJ",
        "adlP2Yvjh2eV",
        "g_JNsmPoWZVE"
      ],
      "toc_visible": true
    }
  },
  "cells": [
    {
      "cell_type": "markdown",
      "metadata": {
        "id": "ToNPxQCe7YGL"
      },
      "source": [
        "\n",
        "### **Instructions**\n",
        "\n",
        "\n",
        "1.   Run **Downloading 'punkt'** first if you're here for the first time.\n",
        "2.   Run the training module to train the model and plot the learning graph.\n",
        "3.   Run the implementation module for the chatbot.\n",
        "\n"
      ]
    },
    {
      "cell_type": "markdown",
      "metadata": {
        "id": "ejP3kVO99gWM"
      },
      "source": [
        "### **Downloading 'punkt'**\n",
        "\n",
        "Run this first if you're here for the first time!"
      ]
    },
    {
      "cell_type": "code",
      "metadata": {
        "id": "ZipQ8uDs9co5",
        "colab": {
          "base_uri": "https://localhost:8080/"
        },
        "outputId": "e238a0c1-fee0-4e04-e708-374c4546fc91"
      },
      "source": [
        "import nltk\n",
        "nltk.download('punkt')"
      ],
      "execution_count": null,
      "outputs": [
        {
          "output_type": "stream",
          "text": [
            "[nltk_data] Downloading package punkt to /root/nltk_data...\n",
            "[nltk_data]   Unzipping tokenizers/punkt.zip.\n"
          ],
          "name": "stdout"
        },
        {
          "output_type": "execute_result",
          "data": {
            "text/plain": [
              "True"
            ]
          },
          "metadata": {
            "tags": []
          },
          "execution_count": 1
        }
      ]
    },
    {
      "cell_type": "markdown",
      "metadata": {
        "id": "_JcFntBfinAm"
      },
      "source": [
        "### **Utility Functions**\n",
        "\n",
        "Functions for Tokenizing, Stemming and Bag of Words are defined here\n"
      ]
    },
    {
      "cell_type": "code",
      "metadata": {
        "id": "59gBQ4NVfaR_"
      },
      "source": [
        "import numpy as np\n",
        "import nltk\n",
        "from nltk.stem.porter import PorterStemmer\n",
        "from nltk.stem import WordNetLemmatizer \n",
        "  \n",
        "# lemmatizer = WordNetLemmatizer()\n",
        "stemmer = PorterStemmer()\n",
        "\n",
        "def tokenize(sentence):\n",
        "    #tokenization\n",
        "    return nltk.word_tokenize(sentence)\n",
        "    \n",
        "\n",
        "\n",
        "def stem(word):\n",
        "    #stemming after converting to lower case\n",
        "    return stemmer.stem(word.lower())\n",
        "    # return lemmatizer.lemmatize(word.lower())\n",
        "    \n",
        "\n",
        "\n",
        "def bag_of_words(tokenized_sentence, words):\n",
        "    # stem each word\n",
        "    sentence_words = [stem(word) for word in tokenized_sentence]\n",
        "    # initialize bag with 0 for each word\n",
        "    bag = np.zeros(len(words), dtype=np.float32)\n",
        "    for idx, w in enumerate(words):\n",
        "        if w in sentence_words: \n",
        "            bag[idx] = 1\n",
        "    return bag\n",
        "\n",
        "\n",
        "# [how,are,you] - tok\n",
        "# [what,are,you,doing,how] - words\n",
        "\n",
        "# bag = [0,1,1,0,1] = 1hot encoded vector"
      ],
      "execution_count": null,
      "outputs": []
    },
    {
      "cell_type": "markdown",
      "metadata": {
        "id": "dfPg-Le8isjz"
      },
      "source": [
        "### **Creating a Neural Network Model**\n",
        "\n",
        "A Feed Forward Neural Network Model is created here\n",
        "\n",
        "\n"
      ]
    },
    {
      "cell_type": "code",
      "metadata": {
        "id": "kPy1r7wDgj6h"
      },
      "source": [
        "import torch\n",
        "import torch.nn as nn\n",
        "\n",
        "\n",
        "class NeuralNet(nn.Module):\n",
        "    def __init__(self, input_size, hidden_size, num_classes):\n",
        "        super(NeuralNet, self).__init__()\n",
        "        self.l1 = nn.Linear(input_size, hidden_size) \n",
        "        self.l2 = nn.Linear(hidden_size, hidden_size) \n",
        "        self.l3 = nn.Linear(hidden_size, num_classes)\n",
        "        self.relu = nn.ReLU()\n",
        "    \n",
        "    def forward(self, x):\n",
        "        out = self.l1(x)\n",
        "        out = self.relu(out)\n",
        "        out = self.l2(out)\n",
        "        out = self.relu(out)\n",
        "        out = self.l3(out)\n",
        "        return out"
      ],
      "execution_count": null,
      "outputs": []
    },
    {
      "cell_type": "markdown",
      "metadata": {
        "id": "EXgeQH5R1znJ"
      },
      "source": [
        "### **Plotting the Loss Graph**\n",
        "\n",
        "After training, a Loss vs Epoch graph is plotted here"
      ]
    },
    {
      "cell_type": "code",
      "metadata": {
        "id": "kpbrEveO15ub"
      },
      "source": [
        "import matplotlib.pyplot as plt\n",
        "\n",
        "\n",
        "def plot_learning_curve(learning_data):\n",
        "    plt.xlabel(\"Epoch\")\n",
        "    plt.ylabel(\"Loss\")\n",
        "    plt.title(\"Model Loss Plot\")\n",
        "\n",
        "    plt.plot(learning_data['epoch values'], learning_data['loss values'], label = 'loss curve')\n",
        "    plt.legend(loc = \"upper right\")\n",
        "  \n",
        "\n"
      ],
      "execution_count": null,
      "outputs": []
    },
    {
      "cell_type": "markdown",
      "metadata": {
        "id": "teGnYD_jiwb_"
      },
      "source": [
        "### **Training the Model using the sample set**\n",
        "\n",
        "The model is trained using the sample patterns given in intents.json"
      ]
    },
    {
      "cell_type": "code",
      "metadata": {
        "id": "lYPQTLuWhB8b",
        "colab": {
          "base_uri": "https://localhost:8080/",
          "height": 587
        },
        "outputId": "ee841433-a794-4b4d-fbc0-714975366173"
      },
      "source": [
        "import numpy as np\n",
        "import random\n",
        "import json\n",
        "import matplotlib.pyplot as plt\n",
        "\n",
        "\n",
        "import torch\n",
        "import torch.nn as nn\n",
        "from torch.utils.data import Dataset, DataLoader\n",
        "\n",
        "\n",
        "from MHH.nltk_utils import bag_of_words, tokenize, stem\n",
        "from MHH.model import NeuralNet\n",
        "from MHH.learning_curve import plot_learning_curve\n",
        "\n",
        "with open('MHH/intents.json', 'r') as f:\n",
        "    intents = json.load(f)\n",
        "\n",
        "all_words = []\n",
        "tags = [] \n",
        "xy = []\n",
        "# loop through each sentence in our intents patterns\n",
        "for intent in intents['intents']:\n",
        "    tag = intent['tag']\n",
        "    # add to tag list\n",
        "    tags.append(tag)\n",
        "    for pattern in intent['patterns']:\n",
        "        # tokenize each word in the sentence\n",
        "        w = tokenize(pattern)\n",
        "        # add to our words list\n",
        "        all_words.extend(w)\n",
        "        # add to xy pair\n",
        "        xy.append((w, tag))\n",
        "\n",
        "# stem and lower each word\n",
        "ignore_words = ['?', '.', '!']\n",
        "all_words = [stem(w) for w in all_words if w not in ignore_words]\n",
        "# remove duplicates and sort\n",
        "all_words = sorted(set(all_words))\n",
        "tags = sorted(set(tags))\n",
        "\n",
        "print(len(xy), \"patterns\")\n",
        "print(len(tags), \"tags:\", tags)\n",
        "print(len(all_words), \"unique stemmed words:\", all_words)\n",
        "\n",
        "# create training data\n",
        "X_train = []\n",
        "y_train = []\n",
        "for (pattern_sentence, tag) in xy:\n",
        "    # X: bag of words for each pattern_sentence\n",
        "    bag = bag_of_words(pattern_sentence, all_words)\n",
        "    X_train.append(bag)\n",
        "    # y: PyTorch CrossEntropyLoss needs only class labels, not one-hot\n",
        "    label = tags.index(tag)\n",
        "    y_train.append(label)\n",
        "\n",
        "X_train = np.array(X_train)\n",
        "y_train = np.array(y_train)\n",
        "\n",
        "# Hyper-parameters \n",
        "num_epochs = 1000\n",
        "batch_size = 8\n",
        "learning_rate = 0.001\n",
        "input_size = len(X_train[0])\n",
        "hidden_size = 8\n",
        "output_size = len(tags)\n",
        "print(input_size, output_size)\n",
        "\n",
        "class ChatDataset(Dataset):\n",
        "\n",
        "    def __init__(self):\n",
        "        self.n_samples = len(X_train)\n",
        "        self.x_data = X_train\n",
        "        self.y_data = y_train\n",
        "\n",
        "    # support indexing such that dataset[i] can be used to get i-th sample\n",
        "    def __getitem__(self, index):\n",
        "        return self.x_data[index], self.y_data[index]\n",
        "\n",
        "    # we can call len(dataset) to return the size\n",
        "    def __len__(self):\n",
        "        return self.n_samples\n",
        "\n",
        "dataset = ChatDataset()\n",
        "train_loader = DataLoader(dataset=dataset,\n",
        "                          batch_size=batch_size,\n",
        "                          shuffle=True,\n",
        "                          num_workers=0)\n",
        "\n",
        "device = torch.device('cuda' if torch.cuda.is_available() else 'cpu')\n",
        "\n",
        "model = NeuralNet(input_size, hidden_size, output_size).to(device)\n",
        "y = np.zeros(200)\n",
        "x = np.array([i+1 for i in range(1,1001,5)])\n",
        "# Loss and optimizer\n",
        "criterion = nn.CrossEntropyLoss()\n",
        "optimizer = torch.optim.Adam(model.parameters(), lr=learning_rate)\n",
        "counter = 0\n",
        "# Train the model\n",
        "for epoch in range(num_epochs):\n",
        "    for (words, labels) in train_loader:\n",
        "        words = words.to(device)\n",
        "        labels = labels.to(dtype=torch.long).to(device)\n",
        "        \n",
        "        # Forward pass\n",
        "        outputs = model(words)\n",
        "        loss = criterion(outputs, labels)\n",
        "        \n",
        "        # Backward and optimize\n",
        "        optimizer.zero_grad()\n",
        "        loss.backward()\n",
        "        optimizer.step()\n",
        "        \n",
        "    if (epoch+1) % 100 == 0:\n",
        "        print (f'Epoch [{epoch+1}/{num_epochs}], Loss: {loss.item():.4f}')\n",
        "    if (epoch+1) % 5 == 0:\n",
        "        y[counter] = loss.item()\n",
        "        counter = counter + 1\n",
        "\n",
        "# Plotting the graph\n",
        "\n",
        "# print(\"Loss vs Epoch Graph:\")\n",
        "\n",
        "# plt.plot(x,y)\n",
        "\n",
        "learning_data = {\n",
        "    'epoch values': x,\n",
        "    'loss values': y\n",
        "}\n",
        "plot_learning_curve(learning_data)\n",
        "\n",
        "\n",
        "print(f'final loss: {loss.item():.4f}')\n",
        "\n",
        "data = {\n",
        "\"model_state\": model.state_dict(),\n",
        "\"input_size\": input_size,\n",
        "\"hidden_size\": hidden_size,\n",
        "\"output_size\": output_size,\n",
        "\"all_words\": all_words,\n",
        "\"tags\": tags\n",
        "}\n",
        "\n",
        "FILE = \"data.pth\"\n",
        "torch.save(data, FILE)\n",
        "\n",
        "print(f'training complete. file saved to {FILE}')\n",
        "\n",
        "\n",
        "\n",
        "\n",
        "\n",
        "# \"\"\"\n",
        "# Set the gradients to zero before backpropogation because pytorch accumulates the gradients while backtracking\n",
        "# \"\"\"\n"
      ],
      "execution_count": null,
      "outputs": [
        {
          "output_type": "stream",
          "text": [
            "30 patterns\n",
            "7 tags: ['aboutbot', 'casualchatbot', 'funny', 'goodbye', 'greeting', 'thanks', 'treatments']\n",
            "50 unique stemmed words: [\"'s\", 'a', 'anyon', 'are', 'bye', 'can', 'day', 'depress', 'distract', 'do', 'escap', 'everyth', 'feel', 'from', 'funni', 'go', 'good', 'goodby', 'happi', 'hello', 'help', 'hey', 'hi', 'how', 'i', 'is', 'it', 'joke', 'know', 'later', 'lot', 'make', 'me', 'myself', 'see', 'should', 'someth', 'tell', 'thank', 'that', 'there', 'thi', 'to', 'treat', 'up', 'voic', 'what', 'who', 'you', 'your']\n",
            "50 7\n",
            "Epoch [100/1000], Loss: 0.9314\n",
            "Epoch [200/1000], Loss: 0.2351\n",
            "Epoch [300/1000], Loss: 0.0376\n",
            "Epoch [400/1000], Loss: 0.0091\n",
            "Epoch [500/1000], Loss: 0.0153\n",
            "Epoch [600/1000], Loss: 0.0033\n",
            "Epoch [700/1000], Loss: 0.0030\n",
            "Epoch [800/1000], Loss: 0.0014\n",
            "Epoch [900/1000], Loss: 0.0009\n",
            "Epoch [1000/1000], Loss: 0.0015\n",
            "final loss: 0.0015\n",
            "training complete. file saved to data.pth\n"
          ],
          "name": "stdout"
        },
        {
          "output_type": "display_data",
          "data": {
            "image/png": "[encoded data removed]",
            "text/plain": [
              "<Figure size 432x288 with 1 Axes>"
            ]
          },
          "metadata": {
            "tags": [],
            "needs_background": "light"
          }
        }
      ]
    },
    {
      "cell_type": "markdown",
      "metadata": {
        "id": "adlP2Yvjh2eV"
      },
      "source": [
        "### **Implementing a chatbot using the trained model**\n",
        "\n",
        "And finally, the responses are displayed using the model we trained in the previous step."
      ]
    },
    {
      "cell_type": "code",
      "metadata": {
        "id": "JPOheb7ceB4A"
      },
      "source": [
        ""
      ],
      "execution_count": null,
      "outputs": []
    },
    {
      "cell_type": "code",
      "metadata": {
        "id": "pXZwqbkOhN90",
        "colab": {
          "base_uri": "https://localhost:8080/"
        },
        "outputId": "f6639683-3709-47f5-a4c3-cffad8591e8b"
      },
      "source": [
        "\n",
        "import random\n",
        "import json\n",
        "\n",
        "import torch\n",
        "\n",
        "from MHH.model import NeuralNet\n",
        "from MHH.nltk_utils import bag_of_words, tokenize\n",
        "\n",
        "device = torch.device('cpu')\n",
        "sys_random = random.SystemRandom()\n",
        "\n",
        "with open('MHH/intents.json', 'r') as json_data:\n",
        "    intents = json.load(json_data)\n",
        "\n",
        "FILE = \"data.pth\"\n",
        "data = torch.load(FILE)\n",
        "\n",
        "input_size = data[\"input_size\"]\n",
        "hidden_size = data[\"hidden_size\"]\n",
        "output_size = data[\"output_size\"]\n",
        "all_words = data['all_words']\n",
        "tags = data['tags']\n",
        "model_state = data[\"model_state\"]\n",
        "\n",
        "model = NeuralNet(input_size, hidden_size, output_size).to(device)\n",
        "model.load_state_dict(model_state)\n",
        "model.eval()\n",
        "\n",
        "bot_name = input(\"Give me a name:\")\n",
        "print(f\"I'm {bot_name}, your virtual mental health helper!! Let's chat! (type 'quit' to exit)\")\n",
        "while True:\n",
        "    sentence = input(\"You: \")\n",
        "    if sentence == \"quit\":\n",
        "        break\n",
        "\n",
        "    sentence = tokenize(sentence)\n",
        "    X = bag_of_words(sentence, all_words)\n",
        "    X = X.reshape(1, X.shape[0])\n",
        "    X = torch.from_numpy(X).to(device)\n",
        "    output = model(X)\n",
        "    _, predicted = torch.max(output, dim=1) #unpacking tuples\n",
        "\n",
        "    tag = tags[predicted.item()] \n",
        "\n",
        "    probs = torch.softmax(output, dim=1)\n",
        "    prob = probs[0][predicted.item()]\n",
        "    #print(prob.item())\n",
        "    if prob.item() > 0.9:\n",
        "        for intent in intents['intents']:\n",
        "            if tag == intent[\"tag\"]:\n",
        "                print(f\"{bot_name}: {sys_random.choice(intent['responses'])}\")\n",
        "    else:\n",
        "        print(f\"{bot_name}: I do not understand...\")\n",
        "\n",
        "\n",
        "\n",
        "\n",
        "\n",
        "\n",
        "\n",
        "        "
      ],
      "execution_count": null,
      "outputs": [
        {
          "output_type": "stream",
          "text": [
            "Give me a name:HelpBot\n",
            "I'm HelpBot, your virtual mental health helper!! Let's chat! (type 'quit' to exit)\n",
            "You: Hi\n",
            "HelpBot: Hey :-)\n",
            "You: Who are you?\n",
            "HelpBot: I am just someone you can talk to if your friends are busy!! But again, I'm just a bot and it's always better to have a conversation with real people you trust!!\n",
            "You: Can you help me with depression?\n",
            "HelpBot: I am your virtual mental health helper and I can help you get a clear idea of what's really going on!!\n",
            "You: What can you do?\n",
            "HelpBot: I am just someone you can talk to if your friends are busy!! But again, I'm just a bot and it's always better to have a conversation with real people you trust!!\n",
            "You: How to treat depression?\n",
            "HelpBot: Open up to a loved one and try to spend more time in doing things you love!!\n",
            "You: Do you know something funny?\n",
            "HelpBot: What did the buffalo say when his son left for college? Bison.\n",
            "You: Thank you\n",
            "HelpBot: My pleasure\n",
            "You: bye\n",
            "HelpBot: Bye! Come back again soon.\n",
            "You: quit\n"
          ],
          "name": "stdout"
        }
      ]
    },
    {
      "cell_type": "code",
      "metadata": {
        "id": "45jJYPbs5unc"
      },
      "source": [
        ""
      ],
      "execution_count": null,
      "outputs": []
    },
    {
      "cell_type": "markdown",
      "metadata": {
        "id": "g_JNsmPoWZVE"
      },
      "source": [
        "### For Downloading the files"
      ]
    },
    {
      "cell_type": "code",
      "metadata": {
        "id": "4DlRbI0kWgpj"
      },
      "source": [
        "!zip -r /content/MHH.zip /content/MHH"
      ],
      "execution_count": null,
      "outputs": []
    }
  ]
}